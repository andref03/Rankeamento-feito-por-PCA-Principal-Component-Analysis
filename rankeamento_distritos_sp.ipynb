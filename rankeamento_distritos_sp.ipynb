{
  "nbformat": 4,
  "nbformat_minor": 0,
  "metadata": {
    "colab": {
      "provenance": [],
      "authorship_tag": "ABX9TyOjaTGkqI7jm7reaYrWbuI6",
      "include_colab_link": true
    },
    "kernelspec": {
      "name": "python3",
      "display_name": "Python 3"
    },
    "language_info": {
      "name": "python"
    }
  },
  "cells": [
    {
      "cell_type": "markdown",
      "metadata": {
        "id": "view-in-github",
        "colab_type": "text"
      },
      "source": [
        "<a href=\"https://colab.research.google.com/github/andref03/Rankeamento-feito-por-PCA-Principal-Component-Analysis/blob/main/rankeamento_distritos_sp.ipynb\" target=\"_parent\"><img src=\"https://colab.research.google.com/assets/colab-badge.svg\" alt=\"Open In Colab\"/></a>"
      ]
    },
    {
      "cell_type": "markdown",
      "source": [
        "# **Ranking de Distritos com PCA - Análise de Componentes Principais**\n",
        "\n",
        "---\n",
        "### **O que é PCA: Análise fatorial de Componentes Principais**\n",
        "\n",
        "> O **PCA** é uma técnica de modelagem não supervisionada. Ou seja, não buscamos uma previsão (não há *variável alvo*).\n",
        "\n",
        "> As variáveis serão transformadas em **fatores**, de tal forma que o *1º fator* irá explicar, sozinho, a maior parte do comportamento das variáveis. O *2º fator* irá explicar a segunda maior parte do comportamento dessas mesmas variáveis, e assim por diante com os *demais fatores*. Os últimos fatores serão muito menos explicativos.\n",
        "\n",
        "> A **quantidade de fatores** que podemos ter em uma análise é justamente limitada à mesma **quantidade de variáveis** que possuímos em determinado *banco de dados*.\n",
        "\n",
        "#### **Aplicações do PCA**\n",
        "\n",
        "> Redução da dimensionalidade dos dados (diminui a qtdd de variáveis na tabela);\n",
        "\n",
        "> Remoção da *multicolinearidade* dos dados (retira a correlação forte que talvez possa existir entre variáveis, pois os *fatores do PCA* não teram correlação entre si);\n",
        "\n",
        "> Elaboração de rankings.\n",
        "\n",
        "---\n",
        "### **Entendendo o problema**\n",
        "\n",
        ">"
      ],
      "metadata": {
        "id": "rXvgtQ9w1jhm"
      }
    },
    {
      "cell_type": "markdown",
      "source": [
        "## **Importanto o conjunto de dados**"
      ],
      "metadata": {
        "id": "eEgXkX-I18bD"
      }
    },
    {
      "cell_type": "code",
      "source": [
        "import pandas as pd"
      ],
      "metadata": {
        "id": "wT-N0-q518It"
      },
      "execution_count": 2,
      "outputs": []
    },
    {
      "cell_type": "code",
      "source": [
        "dados_distritos = pd.read_csv('/content/distritos_sp.csv') # caminho do arquivo .cvs"
      ],
      "metadata": {
        "id": "B__zRqiQ15tb"
      },
      "execution_count": 4,
      "outputs": []
    },
    {
      "cell_type": "code",
      "source": [
        "dados_distritos"
      ],
      "metadata": {
        "colab": {
          "base_uri": "https://localhost:8080/",
          "height": 423
        },
        "id": "3jdQSzW12kLL",
        "outputId": "0c1b227c-3435-4d85-e191-5591961f45e7"
      },
      "execution_count": 5,
      "outputs": [
        {
          "output_type": "execute_result",
          "data": {
            "text/plain": [
              "    cod_ibge          distritos  renda      quota  escolaridade  idade  \\\n",
              "0          1          Água Rasa   1961  34.619999           7.6     32   \n",
              "1         12  Alto de Pinheiros   4180  75.959999           8.4     33   \n",
              "2         23         Anhanguera   1093   4.500000           5.8     23   \n",
              "3         34         Aricanduva   1311  21.020000           6.8     27   \n",
              "4         45        Artur Alvim   1248  15.910000           7.0     27   \n",
              "..       ...                ...    ...        ...           ...    ...   \n",
              "91        92      Vila Medeiros   1405  19.760000           6.8     27   \n",
              "92        93      Vila Prudente   1755  32.080002           7.2     30   \n",
              "93        94         Vila Sônia   2970  41.410000           7.4     27   \n",
              "94        95       São Domingos   2047  23.510000           6.8     26   \n",
              "95        96            Lajeado    775   8.490000           5.4     21   \n",
              "\n",
              "    mortalidade    txcresc   causasext  favel     denspop  \n",
              "0         13.86  -1.840000   52.980000   0.00  125.610001  \n",
              "1          8.68  -2.520000   38.570000   0.69   57.560001  \n",
              "2         15.36  18.120001   22.680000   0.00    8.570000  \n",
              "3         18.43  -1.070000   76.220001   5.38  138.539993  \n",
              "4         19.73  -1.400000   67.250000   4.11  167.399994  \n",
              "..          ...        ...         ...    ...         ...  \n",
              "91        15.43  -1.410000   77.980003   2.49  188.929993  \n",
              "92        14.36  -2.550000   66.510002   7.43  101.440002  \n",
              "93        16.76  -0.900000   74.680000  14.93   80.120003  \n",
              "94        14.30   0.710000   62.349998   8.55   72.919998  \n",
              "95        18.65   2.830000  103.320000   3.84  141.009995  \n",
              "\n",
              "[96 rows x 11 columns]"
            ],
            "text/html": [
              "\n",
              "  <div id=\"df-82a6798c-b102-4253-bee1-e571737e8e2c\" class=\"colab-df-container\">\n",
              "    <div>\n",
              "<style scoped>\n",
              "    .dataframe tbody tr th:only-of-type {\n",
              "        vertical-align: middle;\n",
              "    }\n",
              "\n",
              "    .dataframe tbody tr th {\n",
              "        vertical-align: top;\n",
              "    }\n",
              "\n",
              "    .dataframe thead th {\n",
              "        text-align: right;\n",
              "    }\n",
              "</style>\n",
              "<table border=\"1\" class=\"dataframe\">\n",
              "  <thead>\n",
              "    <tr style=\"text-align: right;\">\n",
              "      <th></th>\n",
              "      <th>cod_ibge</th>\n",
              "      <th>distritos</th>\n",
              "      <th>renda</th>\n",
              "      <th>quota</th>\n",
              "      <th>escolaridade</th>\n",
              "      <th>idade</th>\n",
              "      <th>mortalidade</th>\n",
              "      <th>txcresc</th>\n",
              "      <th>causasext</th>\n",
              "      <th>favel</th>\n",
              "      <th>denspop</th>\n",
              "    </tr>\n",
              "  </thead>\n",
              "  <tbody>\n",
              "    <tr>\n",
              "      <th>0</th>\n",
              "      <td>1</td>\n",
              "      <td>Água Rasa</td>\n",
              "      <td>1961</td>\n",
              "      <td>34.619999</td>\n",
              "      <td>7.6</td>\n",
              "      <td>32</td>\n",
              "      <td>13.86</td>\n",
              "      <td>-1.840000</td>\n",
              "      <td>52.980000</td>\n",
              "      <td>0.00</td>\n",
              "      <td>125.610001</td>\n",
              "    </tr>\n",
              "    <tr>\n",
              "      <th>1</th>\n",
              "      <td>12</td>\n",
              "      <td>Alto de Pinheiros</td>\n",
              "      <td>4180</td>\n",
              "      <td>75.959999</td>\n",
              "      <td>8.4</td>\n",
              "      <td>33</td>\n",
              "      <td>8.68</td>\n",
              "      <td>-2.520000</td>\n",
              "      <td>38.570000</td>\n",
              "      <td>0.69</td>\n",
              "      <td>57.560001</td>\n",
              "    </tr>\n",
              "    <tr>\n",
              "      <th>2</th>\n",
              "      <td>23</td>\n",
              "      <td>Anhanguera</td>\n",
              "      <td>1093</td>\n",
              "      <td>4.500000</td>\n",
              "      <td>5.8</td>\n",
              "      <td>23</td>\n",
              "      <td>15.36</td>\n",
              "      <td>18.120001</td>\n",
              "      <td>22.680000</td>\n",
              "      <td>0.00</td>\n",
              "      <td>8.570000</td>\n",
              "    </tr>\n",
              "    <tr>\n",
              "      <th>3</th>\n",
              "      <td>34</td>\n",
              "      <td>Aricanduva</td>\n",
              "      <td>1311</td>\n",
              "      <td>21.020000</td>\n",
              "      <td>6.8</td>\n",
              "      <td>27</td>\n",
              "      <td>18.43</td>\n",
              "      <td>-1.070000</td>\n",
              "      <td>76.220001</td>\n",
              "      <td>5.38</td>\n",
              "      <td>138.539993</td>\n",
              "    </tr>\n",
              "    <tr>\n",
              "      <th>4</th>\n",
              "      <td>45</td>\n",
              "      <td>Artur Alvim</td>\n",
              "      <td>1248</td>\n",
              "      <td>15.910000</td>\n",
              "      <td>7.0</td>\n",
              "      <td>27</td>\n",
              "      <td>19.73</td>\n",
              "      <td>-1.400000</td>\n",
              "      <td>67.250000</td>\n",
              "      <td>4.11</td>\n",
              "      <td>167.399994</td>\n",
              "    </tr>\n",
              "    <tr>\n",
              "      <th>...</th>\n",
              "      <td>...</td>\n",
              "      <td>...</td>\n",
              "      <td>...</td>\n",
              "      <td>...</td>\n",
              "      <td>...</td>\n",
              "      <td>...</td>\n",
              "      <td>...</td>\n",
              "      <td>...</td>\n",
              "      <td>...</td>\n",
              "      <td>...</td>\n",
              "      <td>...</td>\n",
              "    </tr>\n",
              "    <tr>\n",
              "      <th>91</th>\n",
              "      <td>92</td>\n",
              "      <td>Vila Medeiros</td>\n",
              "      <td>1405</td>\n",
              "      <td>19.760000</td>\n",
              "      <td>6.8</td>\n",
              "      <td>27</td>\n",
              "      <td>15.43</td>\n",
              "      <td>-1.410000</td>\n",
              "      <td>77.980003</td>\n",
              "      <td>2.49</td>\n",
              "      <td>188.929993</td>\n",
              "    </tr>\n",
              "    <tr>\n",
              "      <th>92</th>\n",
              "      <td>93</td>\n",
              "      <td>Vila Prudente</td>\n",
              "      <td>1755</td>\n",
              "      <td>32.080002</td>\n",
              "      <td>7.2</td>\n",
              "      <td>30</td>\n",
              "      <td>14.36</td>\n",
              "      <td>-2.550000</td>\n",
              "      <td>66.510002</td>\n",
              "      <td>7.43</td>\n",
              "      <td>101.440002</td>\n",
              "    </tr>\n",
              "    <tr>\n",
              "      <th>93</th>\n",
              "      <td>94</td>\n",
              "      <td>Vila Sônia</td>\n",
              "      <td>2970</td>\n",
              "      <td>41.410000</td>\n",
              "      <td>7.4</td>\n",
              "      <td>27</td>\n",
              "      <td>16.76</td>\n",
              "      <td>-0.900000</td>\n",
              "      <td>74.680000</td>\n",
              "      <td>14.93</td>\n",
              "      <td>80.120003</td>\n",
              "    </tr>\n",
              "    <tr>\n",
              "      <th>94</th>\n",
              "      <td>95</td>\n",
              "      <td>São Domingos</td>\n",
              "      <td>2047</td>\n",
              "      <td>23.510000</td>\n",
              "      <td>6.8</td>\n",
              "      <td>26</td>\n",
              "      <td>14.30</td>\n",
              "      <td>0.710000</td>\n",
              "      <td>62.349998</td>\n",
              "      <td>8.55</td>\n",
              "      <td>72.919998</td>\n",
              "    </tr>\n",
              "    <tr>\n",
              "      <th>95</th>\n",
              "      <td>96</td>\n",
              "      <td>Lajeado</td>\n",
              "      <td>775</td>\n",
              "      <td>8.490000</td>\n",
              "      <td>5.4</td>\n",
              "      <td>21</td>\n",
              "      <td>18.65</td>\n",
              "      <td>2.830000</td>\n",
              "      <td>103.320000</td>\n",
              "      <td>3.84</td>\n",
              "      <td>141.009995</td>\n",
              "    </tr>\n",
              "  </tbody>\n",
              "</table>\n",
              "<p>96 rows × 11 columns</p>\n",
              "</div>\n",
              "    <div class=\"colab-df-buttons\">\n",
              "\n",
              "  <div class=\"colab-df-container\">\n",
              "    <button class=\"colab-df-convert\" onclick=\"convertToInteractive('df-82a6798c-b102-4253-bee1-e571737e8e2c')\"\n",
              "            title=\"Convert this dataframe to an interactive table.\"\n",
              "            style=\"display:none;\">\n",
              "\n",
              "  <svg xmlns=\"http://www.w3.org/2000/svg\" height=\"24px\" viewBox=\"0 -960 960 960\">\n",
              "    <path d=\"M120-120v-720h720v720H120Zm60-500h600v-160H180v160Zm220 220h160v-160H400v160Zm0 220h160v-160H400v160ZM180-400h160v-160H180v160Zm440 0h160v-160H620v160ZM180-180h160v-160H180v160Zm440 0h160v-160H620v160Z\"/>\n",
              "  </svg>\n",
              "    </button>\n",
              "\n",
              "  <style>\n",
              "    .colab-df-container {\n",
              "      display:flex;\n",
              "      gap: 12px;\n",
              "    }\n",
              "\n",
              "    .colab-df-convert {\n",
              "      background-color: #E8F0FE;\n",
              "      border: none;\n",
              "      border-radius: 50%;\n",
              "      cursor: pointer;\n",
              "      display: none;\n",
              "      fill: #1967D2;\n",
              "      height: 32px;\n",
              "      padding: 0 0 0 0;\n",
              "      width: 32px;\n",
              "    }\n",
              "\n",
              "    .colab-df-convert:hover {\n",
              "      background-color: #E2EBFA;\n",
              "      box-shadow: 0px 1px 2px rgba(60, 64, 67, 0.3), 0px 1px 3px 1px rgba(60, 64, 67, 0.15);\n",
              "      fill: #174EA6;\n",
              "    }\n",
              "\n",
              "    .colab-df-buttons div {\n",
              "      margin-bottom: 4px;\n",
              "    }\n",
              "\n",
              "    [theme=dark] .colab-df-convert {\n",
              "      background-color: #3B4455;\n",
              "      fill: #D2E3FC;\n",
              "    }\n",
              "\n",
              "    [theme=dark] .colab-df-convert:hover {\n",
              "      background-color: #434B5C;\n",
              "      box-shadow: 0px 1px 3px 1px rgba(0, 0, 0, 0.15);\n",
              "      filter: drop-shadow(0px 1px 2px rgba(0, 0, 0, 0.3));\n",
              "      fill: #FFFFFF;\n",
              "    }\n",
              "  </style>\n",
              "\n",
              "    <script>\n",
              "      const buttonEl =\n",
              "        document.querySelector('#df-82a6798c-b102-4253-bee1-e571737e8e2c button.colab-df-convert');\n",
              "      buttonEl.style.display =\n",
              "        google.colab.kernel.accessAllowed ? 'block' : 'none';\n",
              "\n",
              "      async function convertToInteractive(key) {\n",
              "        const element = document.querySelector('#df-82a6798c-b102-4253-bee1-e571737e8e2c');\n",
              "        const dataTable =\n",
              "          await google.colab.kernel.invokeFunction('convertToInteractive',\n",
              "                                                    [key], {});\n",
              "        if (!dataTable) return;\n",
              "\n",
              "        const docLinkHtml = 'Like what you see? Visit the ' +\n",
              "          '<a target=\"_blank\" href=https://colab.research.google.com/notebooks/data_table.ipynb>data table notebook</a>'\n",
              "          + ' to learn more about interactive tables.';\n",
              "        element.innerHTML = '';\n",
              "        dataTable['output_type'] = 'display_data';\n",
              "        await google.colab.output.renderOutput(dataTable, element);\n",
              "        const docLink = document.createElement('div');\n",
              "        docLink.innerHTML = docLinkHtml;\n",
              "        element.appendChild(docLink);\n",
              "      }\n",
              "    </script>\n",
              "  </div>\n",
              "\n",
              "\n",
              "<div id=\"df-eca34f2b-0018-4916-8f41-cce80fe13113\">\n",
              "  <button class=\"colab-df-quickchart\" onclick=\"quickchart('df-eca34f2b-0018-4916-8f41-cce80fe13113')\"\n",
              "            title=\"Suggest charts\"\n",
              "            style=\"display:none;\">\n",
              "\n",
              "<svg xmlns=\"http://www.w3.org/2000/svg\" height=\"24px\"viewBox=\"0 0 24 24\"\n",
              "     width=\"24px\">\n",
              "    <g>\n",
              "        <path d=\"M19 3H5c-1.1 0-2 .9-2 2v14c0 1.1.9 2 2 2h14c1.1 0 2-.9 2-2V5c0-1.1-.9-2-2-2zM9 17H7v-7h2v7zm4 0h-2V7h2v10zm4 0h-2v-4h2v4z\"/>\n",
              "    </g>\n",
              "</svg>\n",
              "  </button>\n",
              "\n",
              "<style>\n",
              "  .colab-df-quickchart {\n",
              "      --bg-color: #E8F0FE;\n",
              "      --fill-color: #1967D2;\n",
              "      --hover-bg-color: #E2EBFA;\n",
              "      --hover-fill-color: #174EA6;\n",
              "      --disabled-fill-color: #AAA;\n",
              "      --disabled-bg-color: #DDD;\n",
              "  }\n",
              "\n",
              "  [theme=dark] .colab-df-quickchart {\n",
              "      --bg-color: #3B4455;\n",
              "      --fill-color: #D2E3FC;\n",
              "      --hover-bg-color: #434B5C;\n",
              "      --hover-fill-color: #FFFFFF;\n",
              "      --disabled-bg-color: #3B4455;\n",
              "      --disabled-fill-color: #666;\n",
              "  }\n",
              "\n",
              "  .colab-df-quickchart {\n",
              "    background-color: var(--bg-color);\n",
              "    border: none;\n",
              "    border-radius: 50%;\n",
              "    cursor: pointer;\n",
              "    display: none;\n",
              "    fill: var(--fill-color);\n",
              "    height: 32px;\n",
              "    padding: 0;\n",
              "    width: 32px;\n",
              "  }\n",
              "\n",
              "  .colab-df-quickchart:hover {\n",
              "    background-color: var(--hover-bg-color);\n",
              "    box-shadow: 0 1px 2px rgba(60, 64, 67, 0.3), 0 1px 3px 1px rgba(60, 64, 67, 0.15);\n",
              "    fill: var(--button-hover-fill-color);\n",
              "  }\n",
              "\n",
              "  .colab-df-quickchart-complete:disabled,\n",
              "  .colab-df-quickchart-complete:disabled:hover {\n",
              "    background-color: var(--disabled-bg-color);\n",
              "    fill: var(--disabled-fill-color);\n",
              "    box-shadow: none;\n",
              "  }\n",
              "\n",
              "  .colab-df-spinner {\n",
              "    border: 2px solid var(--fill-color);\n",
              "    border-color: transparent;\n",
              "    border-bottom-color: var(--fill-color);\n",
              "    animation:\n",
              "      spin 1s steps(1) infinite;\n",
              "  }\n",
              "\n",
              "  @keyframes spin {\n",
              "    0% {\n",
              "      border-color: transparent;\n",
              "      border-bottom-color: var(--fill-color);\n",
              "      border-left-color: var(--fill-color);\n",
              "    }\n",
              "    20% {\n",
              "      border-color: transparent;\n",
              "      border-left-color: var(--fill-color);\n",
              "      border-top-color: var(--fill-color);\n",
              "    }\n",
              "    30% {\n",
              "      border-color: transparent;\n",
              "      border-left-color: var(--fill-color);\n",
              "      border-top-color: var(--fill-color);\n",
              "      border-right-color: var(--fill-color);\n",
              "    }\n",
              "    40% {\n",
              "      border-color: transparent;\n",
              "      border-right-color: var(--fill-color);\n",
              "      border-top-color: var(--fill-color);\n",
              "    }\n",
              "    60% {\n",
              "      border-color: transparent;\n",
              "      border-right-color: var(--fill-color);\n",
              "    }\n",
              "    80% {\n",
              "      border-color: transparent;\n",
              "      border-right-color: var(--fill-color);\n",
              "      border-bottom-color: var(--fill-color);\n",
              "    }\n",
              "    90% {\n",
              "      border-color: transparent;\n",
              "      border-bottom-color: var(--fill-color);\n",
              "    }\n",
              "  }\n",
              "</style>\n",
              "\n",
              "  <script>\n",
              "    async function quickchart(key) {\n",
              "      const quickchartButtonEl =\n",
              "        document.querySelector('#' + key + ' button');\n",
              "      quickchartButtonEl.disabled = true;  // To prevent multiple clicks.\n",
              "      quickchartButtonEl.classList.add('colab-df-spinner');\n",
              "      try {\n",
              "        const charts = await google.colab.kernel.invokeFunction(\n",
              "            'suggestCharts', [key], {});\n",
              "      } catch (error) {\n",
              "        console.error('Error during call to suggestCharts:', error);\n",
              "      }\n",
              "      quickchartButtonEl.classList.remove('colab-df-spinner');\n",
              "      quickchartButtonEl.classList.add('colab-df-quickchart-complete');\n",
              "    }\n",
              "    (() => {\n",
              "      let quickchartButtonEl =\n",
              "        document.querySelector('#df-eca34f2b-0018-4916-8f41-cce80fe13113 button');\n",
              "      quickchartButtonEl.style.display =\n",
              "        google.colab.kernel.accessAllowed ? 'block' : 'none';\n",
              "    })();\n",
              "  </script>\n",
              "</div>\n",
              "\n",
              "  <div id=\"id_486e2bfa-3b6d-4095-a090-8719351a2581\">\n",
              "    <style>\n",
              "      .colab-df-generate {\n",
              "        background-color: #E8F0FE;\n",
              "        border: none;\n",
              "        border-radius: 50%;\n",
              "        cursor: pointer;\n",
              "        display: none;\n",
              "        fill: #1967D2;\n",
              "        height: 32px;\n",
              "        padding: 0 0 0 0;\n",
              "        width: 32px;\n",
              "      }\n",
              "\n",
              "      .colab-df-generate:hover {\n",
              "        background-color: #E2EBFA;\n",
              "        box-shadow: 0px 1px 2px rgba(60, 64, 67, 0.3), 0px 1px 3px 1px rgba(60, 64, 67, 0.15);\n",
              "        fill: #174EA6;\n",
              "      }\n",
              "\n",
              "      [theme=dark] .colab-df-generate {\n",
              "        background-color: #3B4455;\n",
              "        fill: #D2E3FC;\n",
              "      }\n",
              "\n",
              "      [theme=dark] .colab-df-generate:hover {\n",
              "        background-color: #434B5C;\n",
              "        box-shadow: 0px 1px 3px 1px rgba(0, 0, 0, 0.15);\n",
              "        filter: drop-shadow(0px 1px 2px rgba(0, 0, 0, 0.3));\n",
              "        fill: #FFFFFF;\n",
              "      }\n",
              "    </style>\n",
              "    <button class=\"colab-df-generate\" onclick=\"generateWithVariable('dados_distritos')\"\n",
              "            title=\"Generate code using this dataframe.\"\n",
              "            style=\"display:none;\">\n",
              "\n",
              "  <svg xmlns=\"http://www.w3.org/2000/svg\" height=\"24px\"viewBox=\"0 0 24 24\"\n",
              "       width=\"24px\">\n",
              "    <path d=\"M7,19H8.4L18.45,9,17,7.55,7,17.6ZM5,21V16.75L18.45,3.32a2,2,0,0,1,2.83,0l1.4,1.43a1.91,1.91,0,0,1,.58,1.4,1.91,1.91,0,0,1-.58,1.4L9.25,21ZM18.45,9,17,7.55Zm-12,3A5.31,5.31,0,0,0,4.9,8.1,5.31,5.31,0,0,0,1,6.5,5.31,5.31,0,0,0,4.9,4.9,5.31,5.31,0,0,0,6.5,1,5.31,5.31,0,0,0,8.1,4.9,5.31,5.31,0,0,0,12,6.5,5.46,5.46,0,0,0,6.5,12Z\"/>\n",
              "  </svg>\n",
              "    </button>\n",
              "    <script>\n",
              "      (() => {\n",
              "      const buttonEl =\n",
              "        document.querySelector('#id_486e2bfa-3b6d-4095-a090-8719351a2581 button.colab-df-generate');\n",
              "      buttonEl.style.display =\n",
              "        google.colab.kernel.accessAllowed ? 'block' : 'none';\n",
              "\n",
              "      buttonEl.onclick = () => {\n",
              "        google.colab.notebook.generateWithVariable('dados_distritos');\n",
              "      }\n",
              "      })();\n",
              "    </script>\n",
              "  </div>\n",
              "\n",
              "    </div>\n",
              "  </div>\n"
            ],
            "application/vnd.google.colaboratory.intrinsic+json": {
              "type": "dataframe",
              "variable_name": "dados_distritos",
              "summary": "{\n  \"name\": \"dados_distritos\",\n  \"rows\": 96,\n  \"fields\": [\n    {\n      \"column\": \"cod_ibge\",\n      \"properties\": {\n        \"dtype\": \"number\",\n        \"std\": 27,\n        \"min\": 1,\n        \"max\": 96,\n        \"num_unique_values\": 96,\n        \"samples\": [\n          80,\n          76,\n          72\n        ],\n        \"semantic_type\": \"\",\n        \"description\": \"\"\n      }\n    },\n    {\n      \"column\": \"distritos\",\n      \"properties\": {\n        \"dtype\": \"string\",\n        \"num_unique_values\": 96,\n        \"samples\": [\n          \"Trememb\\u00e9\",\n          \"S\\u00e9\",\n          \"S\\u00e3o Miguel\"\n        ],\n        \"semantic_type\": \"\",\n        \"description\": \"\"\n      }\n    },\n    {\n      \"column\": \"renda\",\n      \"properties\": {\n        \"dtype\": \"number\",\n        \"std\": 970,\n        \"min\": 159,\n        \"max\": 5146,\n        \"num_unique_values\": 95,\n        \"samples\": [\n          2329,\n          1371,\n          1023\n        ],\n        \"semantic_type\": \"\",\n        \"description\": \"\"\n      }\n    },\n    {\n      \"column\": \"quota\",\n      \"properties\": {\n        \"dtype\": \"number\",\n        \"std\": 23.04024301102859,\n        \"min\": 0.610000014,\n        \"max\": 104.7300034,\n        \"num_unique_values\": 95,\n        \"samples\": [\n          57.13000107,\n          15.11999989,\n          12.06000042\n        ],\n        \"semantic_type\": \"\",\n        \"description\": \"\"\n      }\n    },\n    {\n      \"column\": \"escolaridade\",\n      \"properties\": {\n        \"dtype\": \"number\",\n        \"std\": 1.0089076756139097,\n        \"min\": 4.800000191,\n        \"max\": 9.199999809,\n        \"num_unique_values\": 32,\n        \"samples\": [\n          9.199999809,\n          6.5,\n          8.699999809\n        ],\n        \"semantic_type\": \"\",\n        \"description\": \"\"\n      }\n    },\n    {\n      \"column\": \"idade\",\n      \"properties\": {\n        \"dtype\": \"number\",\n        \"std\": 4,\n        \"min\": 20,\n        \"max\": 36,\n        \"num_unique_values\": 17,\n        \"samples\": [\n          32,\n          33,\n          30\n        ],\n        \"semantic_type\": \"\",\n        \"description\": \"\"\n      }\n    },\n    {\n      \"column\": \"mortalidade\",\n      \"properties\": {\n        \"dtype\": \"number\",\n        \"std\": 4.994408607420738,\n        \"min\": 6.460000038,\n        \"max\": 44.25,\n        \"num_unique_values\": 90,\n        \"samples\": [\n          19.27000046,\n          21.85000038,\n          16.02000046\n        ],\n        \"semantic_type\": \"\",\n        \"description\": \"\"\n      }\n    },\n    {\n      \"column\": \"txcresc\",\n      \"properties\": {\n        \"dtype\": \"number\",\n        \"std\": 3.5096522841275277,\n        \"min\": -6.239999771,\n        \"max\": 18.12000084,\n        \"num_unique_values\": 93,\n        \"samples\": [\n          4.179999828,\n          0.189999998,\n          0.50999999\n        ],\n        \"semantic_type\": \"\",\n        \"description\": \"\"\n      }\n    },\n    {\n      \"column\": \"causasext\",\n      \"properties\": {\n        \"dtype\": \"number\",\n        \"std\": 23.3151685112746,\n        \"min\": 22.68000031,\n        \"max\": 127.3700027,\n        \"num_unique_values\": 94,\n        \"samples\": [\n          83.75,\n          79.36000061,\n          99.95999908\n        ],\n        \"semantic_type\": \"\",\n        \"description\": \"\"\n      }\n    },\n    {\n      \"column\": \"favel\",\n      \"properties\": {\n        \"dtype\": \"number\",\n        \"std\": 7.883762494010825,\n        \"min\": 0.0,\n        \"max\": 45.68999863,\n        \"num_unique_values\": 71,\n        \"samples\": [\n          19.5,\n          0.0,\n          20.34000015\n        ],\n        \"semantic_type\": \"\",\n        \"description\": \"\"\n      }\n    },\n    {\n      \"column\": \"denspop\",\n      \"properties\": {\n        \"dtype\": \"number\",\n        \"std\": 49.60681396295416,\n        \"min\": 0.370000005,\n        \"max\": 249.6000061,\n        \"num_unique_values\": 96,\n        \"samples\": [\n          25.45000076,\n          101.2099991,\n          138.2100067\n        ],\n        \"semantic_type\": \"\",\n        \"description\": \"\"\n      }\n    }\n  ]\n}"
            }
          },
          "metadata": {},
          "execution_count": 5
        }
      ]
    },
    {
      "cell_type": "code",
      "source": [],
      "metadata": {
        "id": "_oy47MU62fBR"
      },
      "execution_count": null,
      "outputs": []
    },
    {
      "cell_type": "code",
      "source": [],
      "metadata": {
        "id": "KkVf4q562fXb"
      },
      "execution_count": null,
      "outputs": []
    },
    {
      "cell_type": "code",
      "source": [],
      "metadata": {
        "id": "OhErGSvs2fgF"
      },
      "execution_count": null,
      "outputs": []
    },
    {
      "cell_type": "code",
      "source": [],
      "metadata": {
        "id": "NQG8-MqP2fm3"
      },
      "execution_count": null,
      "outputs": []
    },
    {
      "cell_type": "code",
      "source": [],
      "metadata": {
        "id": "LfA61ISs2fsH"
      },
      "execution_count": null,
      "outputs": []
    },
    {
      "cell_type": "code",
      "source": [],
      "metadata": {
        "id": "Ym038tZN2fwc"
      },
      "execution_count": null,
      "outputs": []
    },
    {
      "cell_type": "code",
      "source": [],
      "metadata": {
        "id": "lZ-EKgPQ2f0d"
      },
      "execution_count": null,
      "outputs": []
    },
    {
      "cell_type": "code",
      "source": [],
      "metadata": {
        "id": "KBZ8dagH2f4m"
      },
      "execution_count": null,
      "outputs": []
    },
    {
      "cell_type": "code",
      "source": [],
      "metadata": {
        "id": "4H3RNk4Y2f9T"
      },
      "execution_count": null,
      "outputs": []
    },
    {
      "cell_type": "code",
      "source": [],
      "metadata": {
        "id": "-ddzqAWq2gAm"
      },
      "execution_count": null,
      "outputs": []
    },
    {
      "cell_type": "code",
      "source": [],
      "metadata": {
        "id": "7FhNy2nn2gEv"
      },
      "execution_count": null,
      "outputs": []
    },
    {
      "cell_type": "code",
      "source": [],
      "metadata": {
        "id": "fxRKLk4y2gJW"
      },
      "execution_count": null,
      "outputs": []
    },
    {
      "cell_type": "code",
      "source": [],
      "metadata": {
        "id": "CJqqwpnj2gNb"
      },
      "execution_count": null,
      "outputs": []
    },
    {
      "cell_type": "code",
      "source": [],
      "metadata": {
        "id": "CvfcunN_2gRd"
      },
      "execution_count": null,
      "outputs": []
    },
    {
      "cell_type": "code",
      "source": [],
      "metadata": {
        "id": "dIFac-bH2gXU"
      },
      "execution_count": null,
      "outputs": []
    },
    {
      "cell_type": "code",
      "source": [],
      "metadata": {
        "id": "zrUsu-BN2ga7"
      },
      "execution_count": null,
      "outputs": []
    },
    {
      "cell_type": "code",
      "source": [],
      "metadata": {
        "id": "ZjvjyoOh2gei"
      },
      "execution_count": null,
      "outputs": []
    },
    {
      "cell_type": "code",
      "source": [],
      "metadata": {
        "id": "jCZCYyht2gi7"
      },
      "execution_count": null,
      "outputs": []
    },
    {
      "cell_type": "code",
      "source": [],
      "metadata": {
        "id": "CDVesr5N2gnk"
      },
      "execution_count": null,
      "outputs": []
    },
    {
      "cell_type": "code",
      "source": [],
      "metadata": {
        "id": "TG8fMMp12gro"
      },
      "execution_count": null,
      "outputs": []
    },
    {
      "cell_type": "code",
      "source": [],
      "metadata": {
        "id": "Y_wumpzn2gv-"
      },
      "execution_count": null,
      "outputs": []
    },
    {
      "cell_type": "code",
      "source": [],
      "metadata": {
        "id": "3ONWbK2f2g0h"
      },
      "execution_count": null,
      "outputs": []
    },
    {
      "cell_type": "code",
      "source": [],
      "metadata": {
        "id": "WdM0Em6H2g5E"
      },
      "execution_count": null,
      "outputs": []
    },
    {
      "cell_type": "code",
      "source": [],
      "metadata": {
        "id": "OyQbqzc82g9T"
      },
      "execution_count": null,
      "outputs": []
    },
    {
      "cell_type": "code",
      "source": [],
      "metadata": {
        "id": "REfFrceY2hCg"
      },
      "execution_count": null,
      "outputs": []
    },
    {
      "cell_type": "code",
      "source": [],
      "metadata": {
        "id": "1r-gsmM02hGc"
      },
      "execution_count": null,
      "outputs": []
    },
    {
      "cell_type": "code",
      "source": [],
      "metadata": {
        "id": "F6SVf_PX2hKU"
      },
      "execution_count": null,
      "outputs": []
    },
    {
      "cell_type": "code",
      "source": [],
      "metadata": {
        "id": "nQSg_NXZ2hOn"
      },
      "execution_count": null,
      "outputs": []
    },
    {
      "cell_type": "code",
      "source": [],
      "metadata": {
        "id": "KKuBviIE2hS8"
      },
      "execution_count": null,
      "outputs": []
    },
    {
      "cell_type": "code",
      "source": [],
      "metadata": {
        "id": "J6rDaB5R2hWr"
      },
      "execution_count": null,
      "outputs": []
    },
    {
      "cell_type": "code",
      "source": [],
      "metadata": {
        "id": "_D1EeHnl2has"
      },
      "execution_count": null,
      "outputs": []
    },
    {
      "cell_type": "code",
      "source": [],
      "metadata": {
        "id": "4OGyIcaB2he4"
      },
      "execution_count": null,
      "outputs": []
    }
  ]
}